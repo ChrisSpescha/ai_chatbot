{
 "cells": [
  {
   "cell_type": "code",
   "execution_count": 4,
   "id": "dcb2c5ca-a6d7-4a25-9443-8d72ad631198",
   "metadata": {
    "tags": []
   },
   "outputs": [],
   "source": [
    "import tensorflow as tf\n",
    "from tensorflow.python import keras\n",
    "# from tensorflow.keras.layers.experimental import preprocessing\n",
    "# from tensorflow.python.keras import preprocessing\n",
    "from keras.preprocessing.text import Tokenizer\n",
    "from tensorflow.python.keras.models import Sequential\n",
    "from tensorflow.python.keras.layers import Dense, Dropout, LSTM, Reshape\n",
    "\n",
    "import numpy as np\n",
    "import pandas as pd"
   ]
  },
  {
   "cell_type": "code",
   "execution_count": 5,
   "id": "79c7d60c-8e07-4b59-aff4-ceb217a17f53",
   "metadata": {},
   "outputs": [
    {
     "data": {
      "text/html": [
       "<div>\n",
       "<style scoped>\n",
       "    .dataframe tbody tr th:only-of-type {\n",
       "        vertical-align: middle;\n",
       "    }\n",
       "\n",
       "    .dataframe tbody tr th {\n",
       "        vertical-align: top;\n",
       "    }\n",
       "\n",
       "    .dataframe thead th {\n",
       "        text-align: right;\n",
       "    }\n",
       "</style>\n",
       "<table border=\"1\" class=\"dataframe\">\n",
       "  <thead>\n",
       "    <tr style=\"text-align: right;\">\n",
       "      <th></th>\n",
       "      <th>name</th>\n",
       "      <th>red</th>\n",
       "      <th>green</th>\n",
       "      <th>blue</th>\n",
       "    </tr>\n",
       "  </thead>\n",
       "  <tbody>\n",
       "    <tr>\n",
       "      <th>0</th>\n",
       "      <td>18th Century Green</td>\n",
       "      <td>165</td>\n",
       "      <td>147</td>\n",
       "      <td>68</td>\n",
       "    </tr>\n",
       "    <tr>\n",
       "      <th>1</th>\n",
       "      <td>1975 Earth Red</td>\n",
       "      <td>123</td>\n",
       "      <td>70</td>\n",
       "      <td>59</td>\n",
       "    </tr>\n",
       "    <tr>\n",
       "      <th>2</th>\n",
       "      <td>1989 Miami Hotline</td>\n",
       "      <td>221</td>\n",
       "      <td>51</td>\n",
       "      <td>102</td>\n",
       "    </tr>\n",
       "    <tr>\n",
       "      <th>3</th>\n",
       "      <td>20000 Leagues Under the Sea</td>\n",
       "      <td>25</td>\n",
       "      <td>25</td>\n",
       "      <td>112</td>\n",
       "    </tr>\n",
       "    <tr>\n",
       "      <th>4</th>\n",
       "      <td>3AM in Shibuya</td>\n",
       "      <td>34</td>\n",
       "      <td>85</td>\n",
       "      <td>119</td>\n",
       "    </tr>\n",
       "  </tbody>\n",
       "</table>\n",
       "</div>"
      ],
      "text/plain": [
       "                          name  red  green  blue\n",
       "0           18th Century Green  165    147    68\n",
       "1               1975 Earth Red  123     70    59\n",
       "2           1989 Miami Hotline  221     51   102\n",
       "3  20000 Leagues Under the Sea   25     25   112\n",
       "4               3AM in Shibuya   34     85   119"
      ]
     },
     "execution_count": 5,
     "metadata": {},
     "output_type": "execute_result"
    }
   ],
   "source": [
    "data = pd.read_csv(\"colors.csv\")\n",
    "names = data[\"name\"]\n",
    "data.head()"
   ]
  },
  {
   "cell_type": "code",
   "execution_count": 7,
   "id": "5f2c7245-3911-4f01-a78a-90135ce4a372",
   "metadata": {
    "tags": []
   },
   "outputs": [
    {
     "data": {
      "image/png": "[encoded data removed]",
      "text/plain": [
       "<Figure size 640x480 with 1 Axes>"
      ]
     },
     "metadata": {},
     "output_type": "display_data"
    }
   ],
   "source": [
    "h = sorted(names.str.len().values)\n",
    "import numpy as np\n",
    "import scipy.stats as stats\n",
    "import pylab as plt\n",
    "\n",
    "fit = stats.norm.pdf(h, np.mean(h), np.std(h))  #this is a fitting indeed\n",
    "plt.plot(h,fit,'-o')\n",
    "plt.hist(h)      #use this to draw histogram of your data\n",
    "plt.xlabel('Chars')\n",
    "plt.ylabel('Probability density')\n",
    "plt.show()"
   ]
  },
  {
   "cell_type": "code",
   "execution_count": null,
   "id": "51d6ce63-5f9d-4e7b-bb4d-f64baf62b2f0",
   "metadata": {},
   "outputs": [],
   "source": [
    "maxlen = 25\n",
    "t = preprocessing.Tokenizer(char_level=True)\n",
    "t.fit_on_texts(names)\n",
    "tokenized = t.texts_to_sequences(names)\n",
    "padded_names = preprocessing.sequence.pad_sequences(tokenized, maxlen=maxlen)\n",
    "print(padded_names.shape)"
   ]
  },
  {
   "cell_type": "code",
   "execution_count": null,
   "id": "014cc0c8-0248-486a-a933-394fdabe454b",
   "metadata": {},
   "outputs": [],
   "source": []
  }
 ],
 "metadata": {
  "kernelspec": {
   "display_name": "Python 3 (ipykernel)",
   "language": "python",
   "name": "python3"
  },
  "language_info": {
   "codemirror_mode": {
    "name": "ipython",
    "version": 3
   },
   "file_extension": ".py",
   "mimetype": "text/x-python",
   "name": "python",
   "nbconvert_exporter": "python",
   "pygments_lexer": "ipython3",
   "version": "3.9.13"
  }
 },
 "nbformat": 4,
 "nbformat_minor": 5
}
