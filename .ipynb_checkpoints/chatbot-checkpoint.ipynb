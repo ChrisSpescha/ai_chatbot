{
 "cells": [
  {
   "cell_type": "code",
   "execution_count": 1,
   "id": "68c49ded-958e-4a22-8693-2e7ad17a5364",
   "metadata": {},
   "outputs": [],
   "source": [
    "import pandas as pd"
   ]
  },
  {
   "cell_type": "code",
   "execution_count": 2,
   "id": "81b58505-06f4-4f39-af61-57ce582f7494",
   "metadata": {},
   "outputs": [],
   "source": [
    "df = pd.read_csv('AI.csv')"
   ]
  },
  {
   "cell_type": "code",
   "execution_count": 8,
   "id": "4823d3c1-3e93-47e5-b704-df925876c0c2",
   "metadata": {},
   "outputs": [
    {
     "data": {
      "text/plain": [
       "'Who did the first work generally recognized as AI?'"
      ]
     },
     "execution_count": 8,
     "metadata": {},
     "output_type": "execute_result"
    }
   ],
   "source": [
    "df.iloc[0].Question"
   ]
  },
  {
   "cell_type": "code",
   "execution_count": null,
   "id": "af9380b3-8e25-47ff-93be-3d76b2074484",
   "metadata": {},
   "outputs": [],
   "source": []
  }
 ],
 "metadata": {
  "kernelspec": {
   "display_name": "Python 3 (ipykernel)",
   "language": "python",
   "name": "python3"
  },
  "language_info": {
   "codemirror_mode": {
    "name": "ipython",
    "version": 3
   },
   "file_extension": ".py",
   "mimetype": "text/x-python",
   "name": "python",
   "nbconvert_exporter": "python",
   "pygments_lexer": "ipython3",
   "version": "3.9.13"
  }
 },
 "nbformat": 4,
 "nbformat_minor": 5
}
